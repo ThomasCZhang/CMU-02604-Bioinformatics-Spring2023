{
 "cells": [
  {
   "cell_type": "code",
   "execution_count": 8,
   "metadata": {},
   "outputs": [],
   "source": [
    "from ProfileMostProbableKmer import *\n",
    "from RandomizedMotifSearch import *\n",
    "from EM import *"
   ]
  },
  {
   "cell_type": "code",
   "execution_count": 9,
   "metadata": {},
   "outputs": [],
   "source": [
    "Dna = [\"TACATCCTG\",\n",
    "\"GGACAGCGT\",\n",
    "\"GACTTTGGC\",\n",
    "\"AACAGTGAC\"]\n",
    "Motif = [\"CCTG\", \"ACAG\", \"TTGG\", \"CAGT\"]"
   ]
  },
  {
   "cell_type": "code",
   "execution_count": 10,
   "metadata": {},
   "outputs": [],
   "source": [
    "Profile = CreateProfile(Motif)"
   ]
  },
  {
   "cell_type": "code",
   "execution_count": 11,
   "metadata": {},
   "outputs": [],
   "source": [
    "HM = CreateHiddenMatrix(Dna, Profile)"
   ]
  },
  {
   "cell_type": "code",
   "execution_count": 12,
   "metadata": {},
   "outputs": [
    {
     "name": "stdout",
     "output_type": "stream",
     "text": [
      "[0.03125, 0.1875, 0.09375, 0.03125, 0.09375, 0.5625] 1.0\n",
      "[0.020833333333333332, 0.020833333333333332, 0.5, 0.1875, 0.08333333333333333, 0.1875] 1.0\n",
      "[0.028985507246376812, 0.17391304347826086, 0.17391304347826086, 0.2318840579710145, 0.34782608695652173, 0.043478260869565216] 1.0\n",
      "[0.03508771929824561, 0.42105263157894735, 0.3157894736842105, 0.14035087719298245, 0.05263157894736842, 0.03508771929824561] 0.9999999999999999\n"
     ]
    }
   ],
   "source": [
    "for row in HM:\n",
    "    print(row, sum(row))"
   ]
  },
  {
   "cell_type": "code",
   "execution_count": 14,
   "metadata": {},
   "outputs": [
    {
     "name": "stdout",
     "output_type": "stream",
     "text": [
      "4.0\n",
      "4.0\n",
      "4.0\n",
      "4.0\n"
     ]
    }
   ],
   "source": [
    "NewProfile = CreateProfileWithHiddenMatrix(Dna, HM, 4)\n",
    "for Dictionary in NewProfile:\n",
    "    total = 0\n",
    "    for Key in Dictionary:\n",
    "        total += Dictionary[Key]\n",
    "    print(total)"
   ]
  }
 ],
 "metadata": {
  "kernelspec": {
   "display_name": "venv",
   "language": "python",
   "name": "python3"
  },
  "language_info": {
   "codemirror_mode": {
    "name": "ipython",
    "version": 3
   },
   "file_extension": ".py",
   "mimetype": "text/x-python",
   "name": "python",
   "nbconvert_exporter": "python",
   "pygments_lexer": "ipython3",
   "version": "3.11.1"
  },
  "orig_nbformat": 4,
  "vscode": {
   "interpreter": {
    "hash": "58a071da5c2fc9d82677d4b8b1f27fa095f22cac259b389d7e4f7f70e8f2ff5c"
   }
  }
 },
 "nbformat": 4,
 "nbformat_minor": 2
}
