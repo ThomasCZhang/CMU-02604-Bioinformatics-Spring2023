{
 "cells": [
  {
   "cell_type": "code",
   "execution_count": 16,
   "id": "8a71b176-22bb-4236-aecf-8c0eb6fe3fbd",
   "metadata": {},
   "outputs": [],
   "source": [
    "import os\n",
    "from glob import glob"
   ]
  },
  {
   "cell_type": "code",
   "execution_count": 17,
   "id": "0f0dcc24-345c-4f10-8f94-e243af951c9b",
   "metadata": {},
   "outputs": [],
   "source": [
    "dirpath = os.path.join(os.getcwd(), \"Files\")\n",
    "files = glob(dirpath + \"\\\\*.txt\")"
   ]
  },
  {
   "cell_type": "code",
   "execution_count": 18,
   "id": "d3e98dc1-ec69-4554-8946-5cf002181452",
   "metadata": {},
   "outputs": [
    {
     "name": "stdout",
     "output_type": "stream",
     "text": [
      "test.txt\n",
      "From file test.txt, the sum is: 10108\n"
     ]
    }
   ],
   "source": [
    "for file in files:\n",
    "    with open(file) as f:\n",
    "        for line in f:\n",
    "            int1, int2 = line.split(sep =\" \")\n",
    "            print(f\"From file {os.path.basename(f.name)}, the sum is: {SumTwoInts(int(int1), int(int2))}\")"
   ]
  },
  {
   "cell_type": "code",
   "execution_count": 8,
   "id": "fbff04ff-62f8-4512-92f1-7ae56359c2e3",
   "metadata": {},
   "outputs": [],
   "source": [
    "# SumTwoInts takes two integers as an input and returns the sum.\n",
    "def SumTwoInts(int1, int2):\n",
    "    return int1 + int2"
   ]
  }
 ],
 "metadata": {
  "kernelspec": {
   "display_name": "Python 3 (ipykernel)",
   "language": "python",
   "name": "python3"
  },
  "language_info": {
   "codemirror_mode": {
    "name": "ipython",
    "version": 3
   },
   "file_extension": ".py",
   "mimetype": "text/x-python",
   "name": "python",
   "nbconvert_exporter": "python",
   "pygments_lexer": "ipython3",
   "version": "3.11.1"
  }
 },
 "nbformat": 4,
 "nbformat_minor": 5
}
